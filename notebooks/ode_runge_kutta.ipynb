{
 "cells": [
  {
   "cell_type": "code",
   "execution_count": null,
   "metadata": {
    "colab": {},
    "colab_type": "code",
    "id": "guC1nALbHewX"
   },
   "outputs": [],
   "source": [
    "import collections\n",
    "\n",
    "import matplotlib.pyplot as plt\n",
    "import matplotlib.gridspec as gridspec\n",
    "import numpy as np\n",
    "\n",
    "from mpl_toolkits.mplot3d import Axes3D\n",
    "from scipy.integrate import odeint"
   ]
  },
  {
   "cell_type": "markdown",
   "metadata": {},
   "source": [
    "- Why use Differential Equations (or Difference Equations)?\n",
    "- What is the \"solution\" of a Differential Equation?\n",
    "- Why do we need numerical methods (such as Runge-Kutta)?\n",
    "- Why do we need graphical/geometric approaches (i.e., dynamical systems theory)?"
   ]
  },
  {
   "cell_type": "markdown",
   "metadata": {
    "colab_type": "text",
    "id": "pwvXKrXH7uk3"
   },
   "source": [
    "## Example 1: Mass-and-Spring System"
   ]
  },
  {
   "cell_type": "markdown",
   "metadata": {
    "colab_type": "text",
    "id": "-QDHF0t-JdPt"
   },
   "source": [
    "**Second-order, ordinary, differential equation** for a \"simple frictionless mass-and-spring system\" (Norton, 1995, p.48).\n",
    "<br>\n",
    "<br>\n",
    "$$m\\ddot{x} + kx = 0 \\implies \\ddot{x} = -\\Big(\\frac{k}{m}\\Big)x$$\n",
    "\n",
    "where $m$ is the mass and $k$ is the spring constant.\n"
   ]
  },
  {
   "cell_type": "code",
   "execution_count": null,
   "metadata": {
    "colab": {},
    "colab_type": "code",
    "id": "tGBHZH9YOzIG"
   },
   "outputs": [],
   "source": [
    "# system parameters\n",
    "M = 1.0 # mass constant\n",
    "K = 1.0 # spring constant\n",
    "\n",
    "# accelaration as a function of displacement\n",
    "def xddot(x):\n",
    "  return -(K/M)*x"
   ]
  },
  {
   "cell_type": "code",
   "execution_count": null,
   "metadata": {},
   "outputs": [],
   "source": [
    "# range of displacement values for plot\n",
    "xs = np.linspace(-10, 10, num=100)\n",
    "\n",
    "# values of 2nd derivative over a range of displacements\n",
    "accels = [xddot(x) for x in xs]\n",
    "\n",
    "# plotting acceleration vs displacement\n",
    "fig, ax = plt.subplots()\n",
    "ax.plot(xs, accels, color='red', label='actual')\n",
    "ax.set(xlabel='displacement', ylabel='acceleration',\n",
    "       title='Acceleration vs Displacement for Mass-and-Spring System')\n",
    "ax.grid()"
   ]
  },
  {
   "cell_type": "markdown",
   "metadata": {
    "colab_type": "text",
    "id": "oNCYfnHbYZPd"
   },
   "source": [
    "### Analytical Solution of Mass-and-Spring System\n",
    "\n",
    "An analytical solution for this is given by (Norton, 1995, p.48)\n",
    "<br>\n",
    "<br>\n",
    "$$x(t) = x_0 \\cos\\Big(\\Big(\\sqrt{k/m}\\Big)t\\Big) + \\Big(\\sqrt{m/k}\\Big)\\dot{x_0}\\sin\\Big({\\Big(\\sqrt{k/m}\\Big)t}\\Big)$$\n",
    "<br>\n",
    "Recall that a **solution** to an ODE is a function (or family of functions) that specifies the **state** of the dynamical system at any point in time.\n",
    "<br>\n",
    "<br>\n",
    "*What is the \"state space\" for this problem?*\n",
    "<br>\n",
    "<br>\n",
    "Notice that this equation has two **initial conditions**: \n",
    "<br>\n",
    "<br>\n",
    "&nbsp;$x_0 \\equiv \\text{ the initial linear displacement}$, and\n",
    "<br>\n",
    "&nbsp;$\\dot{x_0} \\equiv \\text{ the initial velocity.}$"
   ]
  },
  {
   "cell_type": "code",
   "execution_count": null,
   "metadata": {
    "colab": {},
    "colab_type": "code",
    "id": "J3xHTy9bMzNN"
   },
   "outputs": [],
   "source": [
    "def x_actual(t, x0, xdot0):\n",
    "  return x0 * np.cos(np.sqrt(K/M)*t) + np.sqrt(M/K)*xdot0*np.sin(np.sqrt(K/M)*t)"
   ]
  },
  {
   "cell_type": "markdown",
   "metadata": {},
   "source": [
    "### Plotting the analytical solution to the Mass-And-Spring System"
   ]
  },
  {
   "cell_type": "code",
   "execution_count": null,
   "metadata": {
    "colab": {},
    "colab_type": "code",
    "id": "CTius9TlJzrN"
   },
   "outputs": [],
   "source": [
    "# range of time values for plot\n",
    "ts = np.linspace(0, 25, num=100)\n",
    "\n",
    "# analytical solution x(t) values over range (for initial conditions x0=10; xdot0=0)\n",
    "x_actuals = [x_actual(t, x0=10.0, xdot0=0.0) for t in ts]"
   ]
  },
  {
   "cell_type": "code",
   "execution_count": null,
   "metadata": {
    "colab": {},
    "colab_type": "code",
    "id": "o2fXLzDDP3nd"
   },
   "outputs": [],
   "source": [
    "fig, ax = plt.subplots()\n",
    "ax.plot(ts, x_actuals, color='red', label='actual')\n",
    "ax.set(xlabel='time (t)', ylabel='displacement (x)',\n",
    "       title='Analytical Solution for Mass-and-Spring System')\n",
    "ax.grid()"
   ]
  },
  {
   "cell_type": "markdown",
   "metadata": {
    "colab_type": "text",
    "id": "ShOUnURdlb2T"
   },
   "source": [
    "### Numerical Solution of Mass-and-Spring System\n",
    "\n",
    "We want to *approximate* this solution using a [Runge-Kutta](https://https://en.wikipedia.org/wiki/Runge%E2%80%93Kutta_methods) method.\n",
    "\n",
    "* [Euler's method](https://https://en.wikipedia.org/wiki/Euler_method) is the *simplest* of the Runge-Kutta methods.\n",
    "* Specifically, we will use the (forward) **Euler's method**.\n",
    "* It is an **explicit** method for solving ODEs.\n",
    "* [\"Explicit Runge–Kutta methods are generally unsuitable for the solution of stiff equations because their region of absolute stability is small\"](https://https://https://en.wikipedia.org/wiki/Runge%E2%80%93Kutta_methods)\n",
    "\n",
    "**Basic Idea:**\n",
    "\n",
    "* Recall that a **first-order** ODE gives the **instantaneous rate of change** at a point (e.g., $\\dot{x} = f(x, t)$).\n",
    "<br>\n",
    "* We can **estimate** the value of $\\dot{x_k}$ in terms of $x_{k+1}$, $x_k$, and a step size $\\Delta t$:\n",
    "\n",
    "$$\\dot{x_k} \\approx \\frac{x_{k+1} - x_k}{\\Delta t} \\implies x_{k+1} \\approx x_k + \\Delta t \\cdot \\dot{x_k}$$\n",
    "\n",
    "Therefore,\n",
    "\n",
    "1.   Given a chosen starting point $x_0$ (initial state), we can calculate the slope (rate of change) at that point.\n",
    "2.   We can then calculate the next state by iterating: $x_{k+1} = x_k + \\Delta t\\cdot \\dot{x_k}$\n",
    "3.   Our chosen $\\Delta t$ (the \"step size\") determines how accurate our approximation of the ODE will be.\n",
    "\n",
    "\n",
    "![alt text](https://upload.wikimedia.org/wikipedia/commons/1/10/Euler_method.svg)\n",
    "\n",
    "from Wikipedia (https://en.wikipedia.org/wiki/Euler_method)"
   ]
  },
  {
   "cell_type": "code",
   "execution_count": null,
   "metadata": {
    "colab": {},
    "colab_type": "code",
    "id": "0adPWp6abQHe"
   },
   "outputs": [],
   "source": [
    "DELTA_T = 0.25 # step size"
   ]
  },
  {
   "cell_type": "code",
   "execution_count": null,
   "metadata": {
    "colab": {},
    "colab_type": "code",
    "id": "C8pwd3OnaAM1"
   },
   "outputs": [],
   "source": [
    "# Using (forward) Euler's method to approximate the solution of a 2nd-order ODE\n",
    "def x_approx(t, x0, xdot0):\n",
    "  x = x0  # initial linear displacement\n",
    "  xdot = xdot0  # initial velocity\n",
    "\n",
    "  for time in np.arange(0, t, DELTA_T):\n",
    "    xdot += xddot(x) * DELTA_T\n",
    "    x += xdot * DELTA_T \n",
    "  return x"
   ]
  },
  {
   "cell_type": "code",
   "execution_count": null,
   "metadata": {
    "colab": {},
    "colab_type": "code",
    "id": "zDjHjueRP6Gs"
   },
   "outputs": [],
   "source": [
    "x_approxs = [x_approx(t, x0=10, xdot0=0) for t in ts]"
   ]
  },
  {
   "cell_type": "code",
   "execution_count": null,
   "metadata": {
    "colab": {},
    "colab_type": "code",
    "id": "6OCWrO0665mP"
   },
   "outputs": [],
   "source": [
    "fig, ax = plt.subplots()\n",
    "ax.plot(ts, x_approxs, color='blue', linestyle='dashed', label='approx')\n",
    "\n",
    "ax.set(xlabel='t', ylabel='x',\n",
    "       title='Numerical (Approximate) Solution for Mass-and-Spring System')\n",
    "ax.grid()"
   ]
  },
  {
   "cell_type": "markdown",
   "metadata": {
    "colab_type": "text",
    "id": "I86MDw6p7juV"
   },
   "source": [
    "### Comparing Analytical and Approximate Solutions"
   ]
  },
  {
   "cell_type": "code",
   "execution_count": null,
   "metadata": {
    "colab": {},
    "colab_type": "code",
    "id": "ArL-igMHbi2c"
   },
   "outputs": [],
   "source": [
    "fig, ax = plt.subplots()\n",
    "ax.plot(ts, x_actuals, color='red', label='actual')\n",
    "ax.plot(ts, x_approxs, color='blue', linestyle='dashed', label='approx')\n",
    "\n",
    "ax.set(xlabel='t', ylabel='x',\n",
    "       title='Comparison of Analytical and Numerical Solutions for x(t)')\n",
    "ax.grid()\n",
    "\n",
    "_ = fig.legend(bbox_to_anchor=(0.8, 0.5), loc='upper left', borderaxespad=0.)"
   ]
  },
  {
   "cell_type": "markdown",
   "metadata": {
    "colab_type": "text",
    "id": "7gfXmIqPRRAu"
   },
   "source": [
    "### Converting the Second-Order System into a First-Order System\n",
    "\n",
    "Let $u = \\dot{x}$, then\n",
    "\n",
    "$\n",
    "\\qquad\\dot{u} = -(\\frac{k}{m})x\\\\\n",
    "\\qquad\\dot{x} = u\n",
    "$\n"
   ]
  },
  {
   "cell_type": "code",
   "execution_count": null,
   "metadata": {
    "colab": {},
    "colab_type": "code",
    "id": "k4omUARDRXBU"
   },
   "outputs": [],
   "source": [
    "def udot(x):\n",
    "  return -(K/M)*x\n",
    "\n",
    "def xdot(u):\n",
    "  return u"
   ]
  },
  {
   "cell_type": "markdown",
   "metadata": {},
   "source": [
    "### Plotting a Vector Field for the Mass-and-Spring System"
   ]
  },
  {
   "cell_type": "code",
   "execution_count": null,
   "metadata": {
    "colab": {},
    "colab_type": "code",
    "id": "jfBdIJO3Slm2"
   },
   "outputs": [],
   "source": [
    "w = 10\n",
    "\n",
    "xs, us = np.mgrid[-w:w, -w:w]\n",
    "\n",
    "udots = udot(xs)\n",
    "xdots = xdot(us)\n",
    "\n",
    "fig, ax = plt.subplots(figsize=(10, 10))\n",
    "\n",
    "plt.xlim(-w, w)\n",
    "plt.ylim(-w, w)\n",
    "\n",
    "_ = ax.quiver(xs, us, xdots, udots)\n",
    "_ = ax.set(xlabel='x (linear displacement)', \n",
    "           ylabel='u (velocity)', \n",
    "           title='Vector Field for Mass-and-Spring System')\n",
    "\n",
    "plt.show()"
   ]
  },
  {
   "cell_type": "markdown",
   "metadata": {
    "colab_type": "text",
    "id": "ek-iopcTVWW-"
   },
   "source": [
    "## Example 2: Linear System of Differential Equations (from Norton p.48) \n",
    "$\n",
    "\\dot{x} = x + z\\\\\n",
    "\\dot{y} = 2x + y - z\\\\\n",
    "\\dot{z} = 3y + 4z\\\\\n",
    "$"
   ]
  },
  {
   "cell_type": "code",
   "execution_count": null,
   "metadata": {
    "colab": {},
    "colab_type": "code",
    "id": "o4MhjQ7b8zbk"
   },
   "outputs": [],
   "source": [
    "def xdot(state):\n",
    "  x,y,z = state\n",
    "  return x + z"
   ]
  },
  {
   "cell_type": "code",
   "execution_count": null,
   "metadata": {
    "colab": {},
    "colab_type": "code",
    "id": "aAa5L-F885qu"
   },
   "outputs": [],
   "source": [
    "def ydot(state):\n",
    "  x,y,z = state\n",
    "  return 2*x + y - z"
   ]
  },
  {
   "cell_type": "code",
   "execution_count": null,
   "metadata": {
    "colab": {},
    "colab_type": "code",
    "id": "RUYB7u9u8951"
   },
   "outputs": [],
   "source": [
    "def zdot(state):\n",
    "  x,y,z = state\n",
    "  return 3*y + 4*z"
   ]
  },
  {
   "cell_type": "markdown",
   "metadata": {
    "colab_type": "text",
    "id": "MFrVDUl6QOPT"
   },
   "source": [
    "### Plot a 3D Vector Field"
   ]
  },
  {
   "cell_type": "code",
   "execution_count": null,
   "metadata": {
    "colab": {},
    "colab_type": "code",
    "id": "IOD26gw3QDr0"
   },
   "outputs": [],
   "source": [
    "fig = plt.figure(figsize=(10, 10))\n",
    "ax = fig.gca(projection='3d')\n",
    "\n",
    "# construct (cubic) state grid\n",
    "w = 5\n",
    "zs, ys, xs = np.mgrid[-w:w, -w:w, -w:w]\n",
    "\n",
    "# calculate the derivatives\n",
    "xdots = xdot([xs,ys,zs])\n",
    "ydots = ydot([xs,ys,zs])\n",
    "zdots = zdot([xs,ys,zs])\n",
    "\n",
    "# plot the vector field\n",
    "ax.quiver(xs, ys, zs, xdots, ydots, zdots, length=0.4, normalize=True)\n",
    "ax.set(xlabel='x', ylabel='y', zlabel='z')\n",
    "\n",
    "plt.show()"
   ]
  },
  {
   "cell_type": "markdown",
   "metadata": {
    "colab_type": "text",
    "id": "dcqKcUpFNnH-"
   },
   "source": [
    "### Plot a 2D \"Stream Field\""
   ]
  },
  {
   "cell_type": "code",
   "execution_count": null,
   "metadata": {
    "colab": {},
    "colab_type": "code",
    "id": "szeLLjkHA_lG"
   },
   "outputs": [],
   "source": [
    "# construct grid of all states to evaluate derivative\n",
    "# (zs are fixed to allow 2D plot)\n",
    "ys, xs = np.mgrid[-w:w, -w:w]"
   ]
  },
  {
   "cell_type": "code",
   "execution_count": null,
   "metadata": {
    "colab": {},
    "colab_type": "code",
    "id": "uVHnrmM3D7jN"
   },
   "outputs": [],
   "source": [
    "# flatten z values (2D slice of 3D plot)\n",
    "fixed_z = 1\n",
    "zs = np.ones(xs.shape) * fixed_z"
   ]
  },
  {
   "cell_type": "code",
   "execution_count": null,
   "metadata": {
    "colab": {},
    "colab_type": "code",
    "id": "Y_P2jLp5_3-O"
   },
   "outputs": [],
   "source": [
    "xdots = xdot([xs,ys,zs])\n",
    "ydots = ydot([xs,ys,zs])\n",
    "zdots = zdot([xs,ys,zs])"
   ]
  },
  {
   "cell_type": "code",
   "execution_count": null,
   "metadata": {
    "colab": {},
    "colab_type": "code",
    "id": "7A3EstHzHis2"
   },
   "outputs": [],
   "source": [
    "fig = plt.figure(figsize=(15, 20))\n",
    "gs = gridspec.GridSpec(nrows=3, ncols=2, height_ratios=[1, 1, 2])\n",
    "ax0 = fig.add_subplot(gs[0, 0])\n",
    "ax0.set(xlabel='x', ylabel='y', title='Plot of X and Y with Fixed Z')\n",
    "_ = ax0.streamplot(xs, ys, xdots, ydots, density=[0.5, 1])"
   ]
  },
  {
   "cell_type": "markdown",
   "metadata": {
    "colab_type": "text",
    "id": "nAFCgKklK2-F"
   },
   "source": [
    "### Check a few derivative values!"
   ]
  },
  {
   "cell_type": "code",
   "execution_count": null,
   "metadata": {
    "colab": {},
    "colab_type": "code",
    "id": "g-vgReUAGAiN"
   },
   "outputs": [],
   "source": [
    "state = [-3, 0, fixed_z]\n",
    "\n",
    "xdot_value = xdot(state)\n",
    "ydot_value = ydot(state)\n",
    "zdot_value = zdot(state)\n",
    "\n",
    "print(xdot_value, ydot_value, zdot_value)"
   ]
  },
  {
   "cell_type": "markdown",
   "metadata": {
    "colab_type": "text",
    "id": "goIjBjMvPIc9"
   },
   "source": [
    "## Example 3: Non-Linear System of Differential Equations (Norton, 1995, p. 49)\n",
    "\n",
    "Second-Order Form:\n",
    "\n",
    "$\n",
    "\\qquad\\ddot{x} = \\dot{x} - y^3\\\\\n",
    "\\qquad\\ddot{y} = -\\dot{y} + x^3\n",
    "$\n",
    "\n",
    "First-Order Form:\n",
    "\n",
    "$\n",
    "\\qquad\\dot{x} = u\\\\\n",
    "\\qquad\\dot{y} = v\\\\\n",
    "\\qquad\\dot{u} = u - y^3\\\\\n",
    "\\qquad\\dot{v} = -v + x^3\n",
    "$\n"
   ]
  },
  {
   "cell_type": "code",
   "execution_count": null,
   "metadata": {
    "colab": {},
    "colab_type": "code",
    "id": "hA27g2bDVoQp"
   },
   "outputs": [],
   "source": [
    "def xdot(state):\n",
    "  x,y,u,v = state\n",
    "  return u\n",
    "\n",
    "def ydot(state):\n",
    "  x,y,u,v = state\n",
    "  return v\n",
    "\n",
    "def udot(state):\n",
    "  x,y,u,v = state\n",
    "  return u - y**3\n",
    "\n",
    "def vdot(state):\n",
    "  x,y,u,v = state\n",
    "  return -v + x**3"
   ]
  },
  {
   "cell_type": "code",
   "execution_count": null,
   "metadata": {
    "colab": {},
    "colab_type": "code",
    "id": "sgzVyRQGXWYd"
   },
   "outputs": [],
   "source": [
    "# vector field (F) with 4 \"component functions\" (see Norton, 1995, p. 50)\n",
    "def F(state, t, params=None):\n",
    "  x,y,u,v = state\n",
    "\n",
    "  return [xdot(state), ydot(state), udot(state), vdot(state)]"
   ]
  },
  {
   "cell_type": "code",
   "execution_count": null,
   "metadata": {
    "colab": {},
    "colab_type": "code",
    "id": "Y8l-X4PlYL2D"
   },
   "outputs": [],
   "source": [
    "initial_state = [0.5,0.1,0,0]\n",
    "\n",
    "ts = np.linspace(0,6,1000)\n",
    "\n",
    "# uses LSODA algorithm\n",
    "approx_sol = odeint(F, initial_state, ts)"
   ]
  },
  {
   "cell_type": "code",
   "execution_count": null,
   "metadata": {
    "colab": {},
    "colab_type": "code",
    "id": "wcZbIdd2ZEsD"
   },
   "outputs": [],
   "source": [
    "xs = approx_sol[:,0]\n",
    "ys = approx_sol[:,1]\n",
    "us = approx_sol[:,2]\n",
    "vs = approx_sol[:,3]\n",
    "\n",
    "plt.plot(ts, xs, 'b', label='x(t)')\n",
    "plt.plot(ts, ys, 'g', label='y(t)')\n",
    "plt.plot(ts, us, 'r', label='u(t)')\n",
    "plt.plot(ts, vs, 'y', label='v(t)')\n",
    "\n",
    "plt.legend(loc='best')\n",
    "plt.xlabel('t')\n",
    "plt.grid()\n",
    "plt.show()"
   ]
  },
  {
   "cell_type": "markdown",
   "metadata": {
    "colab": {},
    "colab_type": "code",
    "id": "lg8L_LIooKcr"
   },
   "source": [
    "## Example 4: Lorenz Equations (Chaotic System)\n",
    "\n",
    "$\\dot{x} = \\sigma(y-x)$\n",
    "<br>\n",
    "$\\dot{y} = x(\\rho-z)-y$\n",
    "<br>\n",
    "$\\dot{z} = xy - \\beta z$\n",
    "<br>\n",
    "\n",
    "**Variables**:&nbsp;$x$,$y$,$z$\n",
    "<br>\n",
    "**Parameters**:&nbsp;$\\sigma$,$\\rho$,$\\beta$\n",
    "\n",
    "Has *chaotic* solutions for some parameter values.\n",
    "\n",
    "* For small values of $\\rho$, the system is stable and approaches one of two fixed point attractors. \n",
    "* When $\\rho > 23.85$, the bifurcates."
   ]
  },
  {
   "cell_type": "code",
   "execution_count": null,
   "metadata": {},
   "outputs": [],
   "source": [
    "# system parameters\n",
    "sigma = 10\n",
    "rho = 25\n",
    "beta = 8.0/3.0"
   ]
  },
  {
   "cell_type": "code",
   "execution_count": null,
   "metadata": {},
   "outputs": [],
   "source": [
    "# system of differential equations\n",
    "def xdot(state):\n",
    "    x,y,z = state\n",
    "    return sigma*(y-x)\n",
    "\n",
    "def ydot(state):\n",
    "    x,y,z = state\n",
    "    return x*(rho - z) - y\n",
    "\n",
    "def zdot(state):\n",
    "    x,y,z = state\n",
    "    return x*y - beta*z"
   ]
  },
  {
   "cell_type": "code",
   "execution_count": null,
   "metadata": {},
   "outputs": [],
   "source": [
    "# vector field with 3 component functions\n",
    "def F(state, t, params=None):\n",
    "  x,y,z = state\n",
    "\n",
    "  return [xdot(state), ydot(state), zdot(state)]"
   ]
  },
  {
   "cell_type": "markdown",
   "metadata": {},
   "source": [
    "### Numerical (Approximate) Solution"
   ]
  },
  {
   "cell_type": "code",
   "execution_count": null,
   "metadata": {},
   "outputs": [],
   "source": [
    "initial_state = [1.01, 1.0, 1.0]\n",
    "\n",
    "t_final = 50\n",
    "delta_t = 0.001\n",
    "\n",
    "ts = np.linspace(0, t_final, int(t_final/delta_t))\n",
    "\n",
    "# uses LSODA algorithm (numerical solver)\n",
    "approx_sol = odeint(F, initial_state, ts)\n",
    "\n",
    "xs = approx_sol[:,0]\n",
    "ys = approx_sol[:,1]\n",
    "zs = approx_sol[:,2]\n",
    "\n",
    "plt.plot(ts, xs, 'b', label='x(t)')\n",
    "plt.plot(ts, ys, 'g', label='y(t)')\n",
    "plt.plot(ts, zs, 'r', label='z(t)')\n",
    "\n",
    "plt.legend(loc='best')\n",
    "plt.xlabel('t')\n",
    "plt.grid()\n",
    "plt.show()"
   ]
  },
  {
   "cell_type": "code",
   "execution_count": null,
   "metadata": {},
   "outputs": [],
   "source": [
    "final_state = xs[-1], ys[-1], zs[-1]"
   ]
  },
  {
   "cell_type": "code",
   "execution_count": null,
   "metadata": {},
   "outputs": [],
   "source": [
    "# interactive mode (not available in jupyter lab!)\n",
    "#%matplotlib notebook \n",
    "\n",
    "fig = plt.figure()\n",
    "ax = fig.gca(projection='3d')\n",
    "\n",
    "# 3d plot of solution trajectory\n",
    "ax.plot(approx_sol[:, 0], approx_sol[:, 1], approx_sol[:, 2])\n",
    "\n",
    "# plot starting point\n",
    "ax.plot([initial_state[0]], [initial_state[1]], [initial_state[2]], color='g', marker='o', markersize=5, alpha=0.6)\n",
    "\n",
    "# plot final point\n",
    "ax.plot([final_state[0]], [final_state[1]], [final_state[2]], color='r', marker='o', markersize=4, alpha=0.6)\n",
    "\n",
    "ax.set_xlabel('x')\n",
    "ax.set_ylabel('y')\n",
    "ax.set_zlabel('z')\n",
    "\n",
    "plt.draw()\n",
    "plt.show()"
   ]
  },
  {
   "cell_type": "markdown",
   "metadata": {},
   "source": [
    "### Sensitivity to Initial Conditions"
   ]
  },
  {
   "cell_type": "code",
   "execution_count": null,
   "metadata": {},
   "outputs": [],
   "source": [
    "# Different initial conditions with small perturbations in each axis\n",
    "initial_states = np.array([[1.0, 1.0, 1.0],\n",
    "                           [1.0 + 10**-9, 1.0, 1.0],\n",
    "                           [1.0, 1.0 + 10**-9, 1.0],\n",
    "                           [1.0, 1.0, 1.0 + 10**-9],])\n",
    "\n",
    "final_states = []\n",
    "\n",
    "for initial_state in initial_states:\n",
    "    approx_sol = odeint(F, initial_state, ts)\n",
    "    \n",
    "    xs = approx_sol[:,0]\n",
    "    ys = approx_sol[:,1]\n",
    "    zs = approx_sol[:,2]\n",
    "    \n",
    "    final_state = xs[-1], ys[-1], zs[-1]    \n",
    "    final_states.append(final_state)\n",
    "    \n",
    "final_states = np.array(final_states)"
   ]
  },
  {
   "cell_type": "code",
   "execution_count": null,
   "metadata": {},
   "outputs": [],
   "source": [
    "final_states[:,0]"
   ]
  },
  {
   "cell_type": "code",
   "execution_count": null,
   "metadata": {},
   "outputs": [],
   "source": [
    "fig = plt.figure()\n",
    "ax = fig.gca(projection='3d')\n",
    "\n",
    "ax.plot(approx_sol[:, 0], approx_sol[:, 1], approx_sol[:, 2])\n",
    "ax.scatter(initial_states[:,0], initial_states[:,1], initial_states[:,2], color='g')\n",
    "ax.scatter(final_states[:,0], final_states[:,1], final_states[:,2], color='r')\n",
    "\n",
    "ax.set_xlabel('x')\n",
    "ax.set_ylabel('y')\n",
    "ax.set_zlabel('z')\n",
    "\n",
    "plt.show()"
   ]
  }
 ],
 "metadata": {
  "accelerator": "GPU",
  "colab": {
   "authorship_tag": "ABX9TyOpY6FUkJLZK9XYEZ+SzFWo",
   "collapsed_sections": [],
   "name": "Copy of ode_runge_kutta.ipynb",
   "provenance": [
    {
     "file_id": "https://github.com/skugele/dynamical-systems/blob/master/notebooks/ode_runge_kutta.ipynb",
     "timestamp": 1583175756658
    }
   ]
  },
  "kernelspec": {
   "display_name": "Python 3",
   "language": "python",
   "name": "python3"
  },
  "language_info": {
   "codemirror_mode": {
    "name": "ipython",
    "version": 3
   },
   "file_extension": ".py",
   "mimetype": "text/x-python",
   "name": "python",
   "nbconvert_exporter": "python",
   "pygments_lexer": "ipython3",
   "version": "3.7.0"
  }
 },
 "nbformat": 4,
 "nbformat_minor": 2
}
